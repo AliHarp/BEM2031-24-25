{
  "cells": [
    {
      "cell_type": "raw",
      "metadata": {},
      "source": [
        "---\n",
        "title: R Example\n",
        "format: live-html\n",
        "---"
      ],
      "id": "d02235b3"
    },
    {
      "cell_type": "markdown",
      "metadata": {},
      "source": [
        "```{webr}\n",
        "print(\"ALISON WTF2\")\n",
        "```"
      ],
      "id": "af40f410"
    }
  ],
  "metadata": {
    "kernelspec": {
      "display_name": "Python 3",
      "language": "python",
      "name": "python3"
    }
  },
  "nbformat": 4,
  "nbformat_minor": 5
}