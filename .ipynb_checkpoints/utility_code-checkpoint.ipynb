{
 "cells": [
  {
   "cell_type": "code",
   "execution_count": null,
   "id": "ba34325a-a225-43a2-84e0-af01d2f8927d",
   "metadata": {},
   "outputs": [],
   "source": [
    "import aspose.pdf as ap\n",
    "\n",
    "def convert_pdf_to_html(pdf_path, html_path):\n",
    "    # Open PDF document\n",
    "    document = ap.Document(pdf_path)\n",
    "    \n",
    "    # Save document in HTML format\n",
    "    save_options = ap.HtmlSaveOptions()\n",
    "    document.save(html_path, save_options)\n",
    "\n",
    "# Example usage\n",
    "pdf_path = \"quarto_2024_25/handbook.pdf\"\n",
    "html_path = \"quarto_2024_25/handbook.html\"\n",
    "convert_pdf_to_html(pdf_path, html_path)\n"
   ]
  }
 ],
 "metadata": {
  "kernelspec": {
   "display_name": "Python 3 (ipykernel)",
   "language": "python",
   "name": "python3"
  },
  "language_info": {
   "codemirror_mode": {
    "name": "ipython",
    "version": 3
   },
   "file_extension": ".py",
   "mimetype": "text/x-python",
   "name": "python",
   "nbconvert_exporter": "python",
   "pygments_lexer": "ipython3",
   "version": "3.9.12"
  }
 },
 "nbformat": 4,
 "nbformat_minor": 5
}
